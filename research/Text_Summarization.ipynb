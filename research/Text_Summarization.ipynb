{
  "cells": [
    {
      "cell_type": "code",
      "execution_count": 1,
      "metadata": {
        "colab": {
          "base_uri": "https://localhost:8080/"
        },
        "id": "QEED7U1ux-4q",
        "outputId": "73d5f3cf-afb6-4f2f-fd60-41d8dead2e95"
      },
      "outputs": [
        {
          "name": "stdout",
          "output_type": "stream",
          "text": [
            "Sun Feb 18 07:28:49 2024       \n",
            "+---------------------------------------------------------------------------------------+\n",
            "| NVIDIA-SMI 535.104.05             Driver Version: 535.104.05   CUDA Version: 12.2     |\n",
            "|-----------------------------------------+----------------------+----------------------+\n",
            "| GPU  Name                 Persistence-M | Bus-Id        Disp.A | Volatile Uncorr. ECC |\n",
            "| Fan  Temp   Perf          Pwr:Usage/Cap |         Memory-Usage | GPU-Util  Compute M. |\n",
            "|                                         |                      |               MIG M. |\n",
            "|=========================================+======================+======================|\n",
            "|   0  Tesla T4                       Off | 00000000:00:04.0 Off |                    0 |\n",
            "| N/A   70C    P0              40W /  70W |      0MiB / 15360MiB |      0%      Default |\n",
            "|                                         |                      |                  N/A |\n",
            "+-----------------------------------------+----------------------+----------------------+\n",
            "                                                                                         \n",
            "+---------------------------------------------------------------------------------------+\n",
            "| Processes:                                                                            |\n",
            "|  GPU   GI   CI        PID   Type   Process name                            GPU Memory |\n",
            "|        ID   ID                                                             Usage      |\n",
            "|=======================================================================================|\n",
            "|  No running processes found                                                           |\n",
            "+---------------------------------------------------------------------------------------+\n"
          ]
        }
      ],
      "source": [
        "!nvidia-smi"
      ]
    },
    {
      "cell_type": "code",
      "execution_count": 2,
      "metadata": {
        "id": "jSDwTbU4yile"
      },
      "outputs": [],
      "source": [
        "!pip install transformers[sentencepiece] datasets sacrebleu rouge_score py7zr -q\n"
      ]
    },
    {
      "cell_type": "code",
      "execution_count": 3,
      "metadata": {
        "colab": {
          "base_uri": "https://localhost:8080/"
        },
        "id": "3dK8-LNAz2sV",
        "outputId": "84513f56-64d7-446c-8c63-f56ee9d06a18"
      },
      "outputs": [
        {
          "name": "stdout",
          "output_type": "stream",
          "text": [
            "Requirement already satisfied: accelerate in /usr/local/lib/python3.10/dist-packages (0.27.2)\n",
            "Requirement already satisfied: numpy>=1.17 in /usr/local/lib/python3.10/dist-packages (from accelerate) (1.25.2)\n",
            "Requirement already satisfied: packaging>=20.0 in /usr/local/lib/python3.10/dist-packages (from accelerate) (23.2)\n",
            "Requirement already satisfied: psutil in /usr/local/lib/python3.10/dist-packages (from accelerate) (5.9.5)\n",
            "Requirement already satisfied: pyyaml in /usr/local/lib/python3.10/dist-packages (from accelerate) (6.0.1)\n",
            "Requirement already satisfied: torch>=1.10.0 in /usr/local/lib/python3.10/dist-packages (from accelerate) (2.1.0+cu121)\n",
            "Requirement already satisfied: huggingface-hub in /usr/local/lib/python3.10/dist-packages (from accelerate) (0.20.3)\n",
            "Requirement already satisfied: safetensors>=0.3.1 in /usr/local/lib/python3.10/dist-packages (from accelerate) (0.4.2)\n",
            "Requirement already satisfied: filelock in /usr/local/lib/python3.10/dist-packages (from torch>=1.10.0->accelerate) (3.13.1)\n",
            "Requirement already satisfied: typing-extensions in /usr/local/lib/python3.10/dist-packages (from torch>=1.10.0->accelerate) (4.9.0)\n",
            "Requirement already satisfied: sympy in /usr/local/lib/python3.10/dist-packages (from torch>=1.10.0->accelerate) (1.12)\n",
            "Requirement already satisfied: networkx in /usr/local/lib/python3.10/dist-packages (from torch>=1.10.0->accelerate) (3.2.1)\n",
            "Requirement already satisfied: jinja2 in /usr/local/lib/python3.10/dist-packages (from torch>=1.10.0->accelerate) (3.1.3)\n",
            "Requirement already satisfied: fsspec in /usr/local/lib/python3.10/dist-packages (from torch>=1.10.0->accelerate) (2023.6.0)\n",
            "Requirement already satisfied: triton==2.1.0 in /usr/local/lib/python3.10/dist-packages (from torch>=1.10.0->accelerate) (2.1.0)\n",
            "Requirement already satisfied: requests in /usr/local/lib/python3.10/dist-packages (from huggingface-hub->accelerate) (2.31.0)\n",
            "Requirement already satisfied: tqdm>=4.42.1 in /usr/local/lib/python3.10/dist-packages (from huggingface-hub->accelerate) (4.66.2)\n",
            "Requirement already satisfied: MarkupSafe>=2.0 in /usr/local/lib/python3.10/dist-packages (from jinja2->torch>=1.10.0->accelerate) (2.1.5)\n",
            "Requirement already satisfied: charset-normalizer<4,>=2 in /usr/local/lib/python3.10/dist-packages (from requests->huggingface-hub->accelerate) (3.3.2)\n",
            "Requirement already satisfied: idna<4,>=2.5 in /usr/local/lib/python3.10/dist-packages (from requests->huggingface-hub->accelerate) (3.6)\n",
            "Requirement already satisfied: urllib3<3,>=1.21.1 in /usr/local/lib/python3.10/dist-packages (from requests->huggingface-hub->accelerate) (2.0.7)\n",
            "Requirement already satisfied: certifi>=2017.4.17 in /usr/local/lib/python3.10/dist-packages (from requests->huggingface-hub->accelerate) (2024.2.2)\n",
            "Requirement already satisfied: mpmath>=0.19 in /usr/local/lib/python3.10/dist-packages (from sympy->torch>=1.10.0->accelerate) (1.3.0)\n",
            "Found existing installation: transformers 4.37.2\n",
            "Uninstalling transformers-4.37.2:\n",
            "  Successfully uninstalled transformers-4.37.2\n",
            "Found existing installation: accelerate 0.27.2\n",
            "Uninstalling accelerate-0.27.2:\n",
            "  Successfully uninstalled accelerate-0.27.2\n",
            "Collecting transformers\n",
            "  Using cached transformers-4.37.2-py3-none-any.whl (8.4 MB)\n",
            "Collecting accelerate\n",
            "  Using cached accelerate-0.27.2-py3-none-any.whl (279 kB)\n",
            "Requirement already satisfied: filelock in /usr/local/lib/python3.10/dist-packages (from transformers) (3.13.1)\n",
            "Requirement already satisfied: huggingface-hub<1.0,>=0.19.3 in /usr/local/lib/python3.10/dist-packages (from transformers) (0.20.3)\n",
            "Requirement already satisfied: numpy>=1.17 in /usr/local/lib/python3.10/dist-packages (from transformers) (1.25.2)\n",
            "Requirement already satisfied: packaging>=20.0 in /usr/local/lib/python3.10/dist-packages (from transformers) (23.2)\n",
            "Requirement already satisfied: pyyaml>=5.1 in /usr/local/lib/python3.10/dist-packages (from transformers) (6.0.1)\n",
            "Requirement already satisfied: regex!=2019.12.17 in /usr/local/lib/python3.10/dist-packages (from transformers) (2023.12.25)\n",
            "Requirement already satisfied: requests in /usr/local/lib/python3.10/dist-packages (from transformers) (2.31.0)\n",
            "Requirement already satisfied: tokenizers<0.19,>=0.14 in /usr/local/lib/python3.10/dist-packages (from transformers) (0.15.2)\n",
            "Requirement already satisfied: safetensors>=0.4.1 in /usr/local/lib/python3.10/dist-packages (from transformers) (0.4.2)\n",
            "Requirement already satisfied: tqdm>=4.27 in /usr/local/lib/python3.10/dist-packages (from transformers) (4.66.2)\n",
            "Requirement already satisfied: psutil in /usr/local/lib/python3.10/dist-packages (from accelerate) (5.9.5)\n",
            "Requirement already satisfied: torch>=1.10.0 in /usr/local/lib/python3.10/dist-packages (from accelerate) (2.1.0+cu121)\n",
            "Requirement already satisfied: fsspec>=2023.5.0 in /usr/local/lib/python3.10/dist-packages (from huggingface-hub<1.0,>=0.19.3->transformers) (2023.6.0)\n",
            "Requirement already satisfied: typing-extensions>=3.7.4.3 in /usr/local/lib/python3.10/dist-packages (from huggingface-hub<1.0,>=0.19.3->transformers) (4.9.0)\n",
            "Requirement already satisfied: sympy in /usr/local/lib/python3.10/dist-packages (from torch>=1.10.0->accelerate) (1.12)\n",
            "Requirement already satisfied: networkx in /usr/local/lib/python3.10/dist-packages (from torch>=1.10.0->accelerate) (3.2.1)\n",
            "Requirement already satisfied: jinja2 in /usr/local/lib/python3.10/dist-packages (from torch>=1.10.0->accelerate) (3.1.3)\n",
            "Requirement already satisfied: triton==2.1.0 in /usr/local/lib/python3.10/dist-packages (from torch>=1.10.0->accelerate) (2.1.0)\n",
            "Requirement already satisfied: charset-normalizer<4,>=2 in /usr/local/lib/python3.10/dist-packages (from requests->transformers) (3.3.2)\n",
            "Requirement already satisfied: idna<4,>=2.5 in /usr/local/lib/python3.10/dist-packages (from requests->transformers) (3.6)\n",
            "Requirement already satisfied: urllib3<3,>=1.21.1 in /usr/local/lib/python3.10/dist-packages (from requests->transformers) (2.0.7)\n",
            "Requirement already satisfied: certifi>=2017.4.17 in /usr/local/lib/python3.10/dist-packages (from requests->transformers) (2024.2.2)\n",
            "Requirement already satisfied: MarkupSafe>=2.0 in /usr/local/lib/python3.10/dist-packages (from jinja2->torch>=1.10.0->accelerate) (2.1.5)\n",
            "Requirement already satisfied: mpmath>=0.19 in /usr/local/lib/python3.10/dist-packages (from sympy->torch>=1.10.0->accelerate) (1.3.0)\n",
            "Installing collected packages: accelerate, transformers\n",
            "Successfully installed accelerate-0.27.2 transformers-4.37.2\n",
            "Requirement already satisfied: transformers in /usr/local/lib/python3.10/dist-packages (4.37.2)\n",
            "Requirement already satisfied: filelock in /usr/local/lib/python3.10/dist-packages (from transformers) (3.13.1)\n",
            "Requirement already satisfied: huggingface-hub<1.0,>=0.19.3 in /usr/local/lib/python3.10/dist-packages (from transformers) (0.20.3)\n",
            "Requirement already satisfied: numpy>=1.17 in /usr/local/lib/python3.10/dist-packages (from transformers) (1.25.2)\n",
            "Requirement already satisfied: packaging>=20.0 in /usr/local/lib/python3.10/dist-packages (from transformers) (23.2)\n",
            "Requirement already satisfied: pyyaml>=5.1 in /usr/local/lib/python3.10/dist-packages (from transformers) (6.0.1)\n",
            "Requirement already satisfied: regex!=2019.12.17 in /usr/local/lib/python3.10/dist-packages (from transformers) (2023.12.25)\n",
            "Requirement already satisfied: requests in /usr/local/lib/python3.10/dist-packages (from transformers) (2.31.0)\n",
            "Requirement already satisfied: tokenizers<0.19,>=0.14 in /usr/local/lib/python3.10/dist-packages (from transformers) (0.15.2)\n",
            "Requirement already satisfied: safetensors>=0.4.1 in /usr/local/lib/python3.10/dist-packages (from transformers) (0.4.2)\n",
            "Requirement already satisfied: tqdm>=4.27 in /usr/local/lib/python3.10/dist-packages (from transformers) (4.66.2)\n",
            "Requirement already satisfied: fsspec>=2023.5.0 in /usr/local/lib/python3.10/dist-packages (from huggingface-hub<1.0,>=0.19.3->transformers) (2023.6.0)\n",
            "Requirement already satisfied: typing-extensions>=3.7.4.3 in /usr/local/lib/python3.10/dist-packages (from huggingface-hub<1.0,>=0.19.3->transformers) (4.9.0)\n",
            "Requirement already satisfied: charset-normalizer<4,>=2 in /usr/local/lib/python3.10/dist-packages (from requests->transformers) (3.3.2)\n",
            "Requirement already satisfied: idna<4,>=2.5 in /usr/local/lib/python3.10/dist-packages (from requests->transformers) (3.6)\n",
            "Requirement already satisfied: urllib3<3,>=1.21.1 in /usr/local/lib/python3.10/dist-packages (from requests->transformers) (2.0.7)\n",
            "Requirement already satisfied: certifi>=2017.4.17 in /usr/local/lib/python3.10/dist-packages (from requests->transformers) (2024.2.2)\n"
          ]
        }
      ],
      "source": [
        "!pip install --upgrade accelerate\n",
        "!pip uninstall -y transformers accelerate\n",
        "!pip install transformers accelerate\n",
        "!pip install transformers"
      ]
    },
    {
      "cell_type": "code",
      "execution_count": 4,
      "metadata": {
        "colab": {
          "base_uri": "https://localhost:8080/"
        },
        "id": "IKAKTCNR04-u",
        "outputId": "ad85df63-a7e6-47e2-bfbb-60f27002339a"
      },
      "outputs": [
        {
          "name": "stderr",
          "output_type": "stream",
          "text": [
            "[nltk_data] Downloading package punkt to /root/nltk_data...\n",
            "[nltk_data]   Package punkt is already up-to-date!\n"
          ]
        },
        {
          "data": {
            "text/plain": [
              "True"
            ]
          },
          "execution_count": 4,
          "metadata": {},
          "output_type": "execute_result"
        }
      ],
      "source": [
        "from transformers import pipeline, set_seed\n",
        "from datasets import load_dataset, load_from_disk\n",
        "import matplotlib.pyplot as plt\n",
        "from datasets import load_dataset\n",
        "import pandas as pd\n",
        "from datasets import load_dataset, load_metric\n",
        "\n",
        "from transformers import LEDForConditionalGeneration, LEDTokenizer,AutoConfig\n",
        "import nltk\n",
        "from nltk.tokenize import sent_tokenize\n",
        "\n",
        "from tqdm import tqdm\n",
        "import torch\n",
        "\n",
        "nltk.download(\"punkt\")"
      ]
    },
    {
      "cell_type": "code",
      "execution_count": 5,
      "metadata": {
        "colab": {
          "base_uri": "https://localhost:8080/",
          "height": 36
        },
        "id": "V_UaMyQs19Ej",
        "outputId": "70bf4e95-4613-4f14-d7e0-6836020f916a"
      },
      "outputs": [
        {
          "data": {
            "application/vnd.google.colaboratory.intrinsic+json": {
              "type": "string"
            },
            "text/plain": [
              "'cuda'"
            ]
          },
          "execution_count": 5,
          "metadata": {},
          "output_type": "execute_result"
        }
      ],
      "source": [
        "#Setting up Device, to use GPU\n",
        "from transformers import LEDForConditionalGeneration, LEDTokenizer\n",
        "device = \"cuda\" if torch.cuda.is_available() else \"cpu\"\n",
        "device"
      ]
    },
    {
      "cell_type": "code",
      "execution_count": 6,
      "metadata": {
        "colab": {
          "base_uri": "https://localhost:8080/"
        },
        "id": "q3fmrv0VJcKD",
        "outputId": "dffa9e90-3623-44f4-bfba-ad7ff3621b64"
      },
      "outputs": [
        {
          "name": "stderr",
          "output_type": "stream",
          "text": [
            "/usr/local/lib/python3.10/dist-packages/huggingface_hub/utils/_token.py:88: UserWarning: \n",
            "The secret `HF_TOKEN` does not exist in your Colab secrets.\n",
            "To authenticate with the Hugging Face Hub, create a token in your settings tab (https://huggingface.co/settings/tokens), set it as secret in your Google Colab and restart your session.\n",
            "You will be able to reuse this secret in all of your notebooks.\n",
            "Please note that authentication is recommended but still optional to access public models or datasets.\n",
            "  warnings.warn(\n"
          ]
        }
      ],
      "source": [
        "# Loade Model and it's Tokenizer\n",
        "model_ckpt = \"pszemraj/led-large-book-summary\"\n",
        "model_Led = LEDForConditionalGeneration.from_pretrained(model_ckpt).to(device)\n",
        "tokenizer = LEDTokenizer.from_pretrained(model_ckpt)\n"
      ]
    },
    {
      "cell_type": "code",
      "execution_count": 7,
      "metadata": {
        "colab": {
          "base_uri": "https://localhost:8080/"
        },
        "id": "AqQk2EiaaXaS",
        "outputId": "ca1e1a7f-ddb3-4a12-b756-f7293e32bac7"
      },
      "outputs": [
        {
          "name": "stdout",
          "output_type": "stream",
          "text": [
            "--2024-02-18 07:30:21--  https://github.com/entbappy/Branching-tutorial/raw/master/summarizer-data.zip\n",
            "Resolving github.com (github.com)... 140.82.113.3\n",
            "Connecting to github.com (github.com)|140.82.113.3|:443... connected.\n",
            "HTTP request sent, awaiting response... 302 Found\n",
            "Location: https://raw.githubusercontent.com/entbappy/Branching-tutorial/master/summarizer-data.zip [following]\n",
            "--2024-02-18 07:30:21--  https://raw.githubusercontent.com/entbappy/Branching-tutorial/master/summarizer-data.zip\n",
            "Resolving raw.githubusercontent.com (raw.githubusercontent.com)... 185.199.108.133, 185.199.109.133, 185.199.110.133, ...\n",
            "Connecting to raw.githubusercontent.com (raw.githubusercontent.com)|185.199.108.133|:443... connected.\n",
            "HTTP request sent, awaiting response... 200 OK\n",
            "Length: 7903594 (7.5M) [application/zip]\n",
            "Saving to: ‘summarizer-data.zip.1’\n",
            "\n",
            "summarizer-data.zip 100%[===================>]   7.54M  --.-KB/s    in 0.1s    \n",
            "\n",
            "2024-02-18 07:30:22 (58.0 MB/s) - ‘summarizer-data.zip.1’ saved [7903594/7903594]\n",
            "\n",
            "Archive:  summarizer-data.zip\n",
            "replace samsum-test.csv? [y]es, [n]o, [A]ll, [N]one, [r]ename: "
          ]
        }
      ],
      "source": [
        "# Download and Unzip the Data\n",
        "!wget https://github.com/entbappy/Branching-tutorial/raw/master/summarizer-data.zip\n",
        "!unzip summarizer-data.zip"
      ]
    },
    {
      "cell_type": "code",
      "execution_count": null,
      "metadata": {
        "id": "dm0If2OWcVGa"
      },
      "outputs": [],
      "source": [
        "dataset_samsum = load_from_disk('samsum_dataset')\n",
        "dataset_samsum"
      ]
    },
    {
      "cell_type": "code",
      "execution_count": 9,
      "metadata": {
        "colab": {
          "base_uri": "https://localhost:8080/"
        },
        "id": "PSgRXN_-e1gQ",
        "outputId": "bfaf3c7c-e320-4276-ff62-51df77835849"
      },
      "outputs": [
        {
          "name": "stdout",
          "output_type": "stream",
          "text": [
            "Split lengths: [14732, 819, 818]\n",
            "Features: ['id', 'dialogue', 'summary']\n",
            "\n",
            "Dialogue:\n",
            "Eric: MACHINE!\r\n",
            "Rob: That's so gr8!\r\n",
            "Eric: I know! And shows how Americans see Russian ;)\r\n",
            "Rob: And it's really funny!\r\n",
            "Eric: I know! I especially like the train part!\r\n",
            "Rob: Hahaha! No one talks to the machine like that!\r\n",
            "Eric: Is this his only stand-up?\r\n",
            "Rob: Idk. I'll check.\r\n",
            "Eric: Sure.\r\n",
            "Rob: Turns out no! There are some of his stand-ups on youtube.\r\n",
            "Eric: Gr8! I'll watch them now!\r\n",
            "Rob: Me too!\r\n",
            "Eric: MACHINE!\r\n",
            "Rob: MACHINE!\r\n",
            "Eric: TTYL?\r\n",
            "Rob: Sure :)\n",
            "\n",
            "Summary:\n",
            "Eric and Rob are going to watch a stand-up on youtube.\n"
          ]
        }
      ],
      "source": [
        "#print some of the data\n",
        "\n",
        "split_lengths = [len(dataset_samsum[split])for split in dataset_samsum]\n",
        "\n",
        "print(f\"Split lengths: {split_lengths}\")\n",
        "print(f\"Features: {dataset_samsum['train'].column_names}\")\n",
        "print(\"\\nDialogue:\")\n",
        "\n",
        "print(dataset_samsum[\"test\"][1][\"dialogue\"])\n",
        "\n",
        "print(\"\\nSummary:\")\n",
        "\n",
        "print(dataset_samsum[\"test\"][1][\"summary\"])"
      ]
    },
    {
      "cell_type": "code",
      "execution_count": 10,
      "metadata": {
        "id": "gdvhh5hgfaI2"
      },
      "outputs": [],
      "source": [
        "# This Function will help me to convert input IDs to attention mask and levels.\n",
        "def convert_examples_to_features(example_batch):\n",
        "  input_encodings = tokenizer(example_batch['dialogue'], max_length = 1024, truncation = True )\n",
        "\n",
        "  with tokenizer.as_target_tokenizer():\n",
        "     target_encodings = tokenizer(example_batch['summary'], max_length = 128, truncation = True )\n",
        "\n",
        "  return {\n",
        "      'input_ids' : input_encodings['input_ids'],\n",
        "      'attention_mask': input_encodings['attention_mask'],\n",
        "      'labels': target_encodings['input_ids']\n",
        "      }\n"
      ]
    },
    {
      "cell_type": "code",
      "execution_count": 11,
      "metadata": {
        "id": "tVdWxnKp5z6B"
      },
      "outputs": [],
      "source": [
        "dataset_samsum_pt = dataset_samsum.map(convert_examples_to_features, batched= True)"
      ]
    },
    {
      "cell_type": "code",
      "execution_count": 12,
      "metadata": {
        "colab": {
          "base_uri": "https://localhost:8080/"
        },
        "id": "5MN7opbt6ZpO",
        "outputId": "9dad7795-7be6-4c48-aad5-5eb1293d2926"
      },
      "outputs": [
        {
          "data": {
            "text/plain": [
              "Dataset({\n",
              "    features: ['id', 'dialogue', 'summary', 'input_ids', 'attention_mask', 'labels'],\n",
              "    num_rows: 14732\n",
              "})"
            ]
          },
          "execution_count": 12,
          "metadata": {},
          "output_type": "execute_result"
        }
      ],
      "source": [
        "dataset_samsum_pt[\"train\"]"
      ]
    },
    {
      "cell_type": "code",
      "execution_count": 13,
      "metadata": {
        "id": "gIQ7E1vt6iuY"
      },
      "outputs": [],
      "source": [
        "# Training\n",
        "# This will Creating the baches instead of pass all of the data\n",
        "from transformers import DataCollatorForSeq2Seq\n",
        "\n",
        "seq2seq_data_collator = DataCollatorForSeq2Seq(tokenizer, model = model_Led)"
      ]
    },
    {
      "cell_type": "code",
      "execution_count": 14,
      "metadata": {
        "id": "CxMFRucz7GtR"
      },
      "outputs": [],
      "source": [
        "from transformers import TrainingArguments, Trainer\n",
        "\n",
        "trainer_args = TrainingArguments(\n",
        "    output_dir='pegasus-samsum', num_train_epochs=1, warmup_steps=500,\n",
        "    per_device_train_batch_size=1, per_device_eval_batch_size=1,\n",
        "    weight_decay=0.01, logging_steps=10,\n",
        "    evaluation_strategy='steps', eval_steps=500, save_steps=1e6,\n",
        "    gradient_accumulation_steps=16 )"
      ]
    },
    {
      "cell_type": "code",
      "execution_count": 17,
      "metadata": {
        "id": "qGl6jtKi8M3F"
      },
      "outputs": [],
      "source": [
        "\n",
        "trainer = Trainer(model=model_Led, args=trainer_args,\n",
        "                  tokenizer=tokenizer, data_collator=seq2seq_data_collator,\n",
        "                  train_dataset=dataset_samsum_pt[\"test\"],\n",
        "                  eval_dataset=dataset_samsum_pt[\"validation\"])\n"
      ]
    },
    {
      "cell_type": "code",
      "execution_count": 18,
      "metadata": {
        "colab": {
          "base_uri": "https://localhost:8080/",
          "height": 1000
        },
        "id": "K2t4JZcc88_k",
        "outputId": "686b287b-2718-4aba-e4e6-7d4b55618b8a"
      },
      "outputs": [
        {
          "name": "stderr",
          "output_type": "stream",
          "text": [
            "Input ids are automatically padded from 295 to 1024 to be a multiple of `config.attention_window`: 1024\n",
            "Input ids are automatically padded from 29 to 1024 to be a multiple of `config.attention_window`: 1024\n",
            "Input ids are automatically padded from 63 to 1024 to be a multiple of `config.attention_window`: 1024\n",
            "Input ids are automatically padded from 141 to 1024 to be a multiple of `config.attention_window`: 1024\n",
            "Input ids are automatically padded from 202 to 1024 to be a multiple of `config.attention_window`: 1024\n",
            "Input ids are automatically padded from 31 to 1024 to be a multiple of `config.attention_window`: 1024\n",
            "Input ids are automatically padded from 356 to 1024 to be a multiple of `config.attention_window`: 1024\n",
            "Input ids are automatically padded from 317 to 1024 to be a multiple of `config.attention_window`: 1024\n",
            "Input ids are automatically padded from 142 to 1024 to be a multiple of `config.attention_window`: 1024\n",
            "Input ids are automatically padded from 298 to 1024 to be a multiple of `config.attention_window`: 1024\n",
            "Input ids are automatically padded from 57 to 1024 to be a multiple of `config.attention_window`: 1024\n",
            "Input ids are automatically padded from 73 to 1024 to be a multiple of `config.attention_window`: 1024\n"
          ]
        },
        {
          "data": {
            "text/html": [
              "\n",
              "    <div>\n",
              "      \n",
              "      <progress value='51' max='51' style='width:300px; height:20px; vertical-align: middle;'></progress>\n",
              "      [51/51 12:06, Epoch 0/1]\n",
              "    </div>\n",
              "    <table border=\"1\" class=\"dataframe\">\n",
              "  <thead>\n",
              " <tr style=\"text-align: left;\">\n",
              "      <th>Step</th>\n",
              "      <th>Training Loss</th>\n",
              "      <th>Validation Loss</th>\n",
              "    </tr>\n",
              "  </thead>\n",
              "  <tbody>\n",
              "  </tbody>\n",
              "</table><p>"
            ],
            "text/plain": [
              "<IPython.core.display.HTML object>"
            ]
          },
          "metadata": {},
          "output_type": "display_data"
        },
        {
          "name": "stderr",
          "output_type": "stream",
          "text": [
            "Input ids are automatically padded from 222 to 1024 to be a multiple of `config.attention_window`: 1024\n",
            "Input ids are automatically padded from 123 to 1024 to be a multiple of `config.attention_window`: 1024\n",
            "Input ids are automatically padded from 98 to 1024 to be a multiple of `config.attention_window`: 1024\n",
            "Input ids are automatically padded from 49 to 1024 to be a multiple of `config.attention_window`: 1024\n",
            "Input ids are automatically padded from 67 to 1024 to be a multiple of `config.attention_window`: 1024\n",
            "Input ids are automatically padded from 92 to 1024 to be a multiple of `config.attention_window`: 1024\n",
            "Input ids are automatically padded from 562 to 1024 to be a multiple of `config.attention_window`: 1024\n",
            "Input ids are automatically padded from 156 to 1024 to be a multiple of `config.attention_window`: 1024\n",
            "Input ids are automatically padded from 554 to 1024 to be a multiple of `config.attention_window`: 1024\n",
            "Input ids are automatically padded from 88 to 1024 to be a multiple of `config.attention_window`: 1024\n",
            "Input ids are automatically padded from 206 to 1024 to be a multiple of `config.attention_window`: 1024\n",
            "Input ids are automatically padded from 349 to 1024 to be a multiple of `config.attention_window`: 1024\n",
            "Input ids are automatically padded from 39 to 1024 to be a multiple of `config.attention_window`: 1024\n",
            "Input ids are automatically padded from 62 to 1024 to be a multiple of `config.attention_window`: 1024\n",
            "Input ids are automatically padded from 200 to 1024 to be a multiple of `config.attention_window`: 1024\n",
            "Input ids are automatically padded from 101 to 1024 to be a multiple of `config.attention_window`: 1024\n",
            "Input ids are automatically padded from 91 to 1024 to be a multiple of `config.attention_window`: 1024\n",
            "Input ids are automatically padded from 196 to 1024 to be a multiple of `config.attention_window`: 1024\n",
            "Input ids are automatically padded from 95 to 1024 to be a multiple of `config.attention_window`: 1024\n",
            "Input ids are automatically padded from 208 to 1024 to be a multiple of `config.attention_window`: 1024\n",
            "Input ids are automatically padded from 32 to 1024 to be a multiple of `config.attention_window`: 1024\n",
            "Input ids are automatically padded from 232 to 1024 to be a multiple of `config.attention_window`: 1024\n",
            "Input ids are automatically padded from 120 to 1024 to be a multiple of `config.attention_window`: 1024\n",
            "Input ids are automatically padded from 227 to 1024 to be a multiple of `config.attention_window`: 1024\n",
            "Input ids are automatically padded from 33 to 1024 to be a multiple of `config.attention_window`: 1024\n",
            "Input ids are automatically padded from 425 to 1024 to be a multiple of `config.attention_window`: 1024\n",
            "Input ids are automatically padded from 185 to 1024 to be a multiple of `config.attention_window`: 1024\n",
            "Input ids are automatically padded from 190 to 1024 to be a multiple of `config.attention_window`: 1024\n",
            "Input ids are automatically padded from 310 to 1024 to be a multiple of `config.attention_window`: 1024\n",
            "Input ids are automatically padded from 146 to 1024 to be a multiple of `config.attention_window`: 1024\n",
            "Input ids are automatically padded from 126 to 1024 to be a multiple of `config.attention_window`: 1024\n",
            "Input ids are automatically padded from 69 to 1024 to be a multiple of `config.attention_window`: 1024\n",
            "Input ids are automatically padded from 168 to 1024 to be a multiple of `config.attention_window`: 1024\n",
            "Input ids are automatically padded from 112 to 1024 to be a multiple of `config.attention_window`: 1024\n",
            "Input ids are automatically padded from 115 to 1024 to be a multiple of `config.attention_window`: 1024\n",
            "Input ids are automatically padded from 23 to 1024 to be a multiple of `config.attention_window`: 1024\n",
            "Input ids are automatically padded from 209 to 1024 to be a multiple of `config.attention_window`: 1024\n",
            "Input ids are automatically padded from 81 to 1024 to be a multiple of `config.attention_window`: 1024\n",
            "Input ids are automatically padded from 212 to 1024 to be a multiple of `config.attention_window`: 1024\n",
            "Input ids are automatically padded from 77 to 1024 to be a multiple of `config.attention_window`: 1024\n",
            "Input ids are automatically padded from 129 to 1024 to be a multiple of `config.attention_window`: 1024\n",
            "Input ids are automatically padded from 392 to 1024 to be a multiple of `config.attention_window`: 1024\n",
            "Input ids are automatically padded from 150 to 1024 to be a multiple of `config.attention_window`: 1024\n",
            "Input ids are automatically padded from 182 to 1024 to be a multiple of `config.attention_window`: 1024\n",
            "Input ids are automatically padded from 289 to 1024 to be a multiple of `config.attention_window`: 1024\n",
            "Input ids are automatically padded from 199 to 1024 to be a multiple of `config.attention_window`: 1024\n",
            "Input ids are automatically padded from 207 to 1024 to be a multiple of `config.attention_window`: 1024\n",
            "Input ids are automatically padded from 288 to 1024 to be a multiple of `config.attention_window`: 1024\n",
            "Input ids are automatically padded from 267 to 1024 to be a multiple of `config.attention_window`: 1024\n",
            "Input ids are automatically padded from 262 to 1024 to be a multiple of `config.attention_window`: 1024\n",
            "Input ids are automatically padded from 47 to 1024 to be a multiple of `config.attention_window`: 1024\n",
            "Input ids are automatically padded from 30 to 1024 to be a multiple of `config.attention_window`: 1024\n",
            "Input ids are automatically padded from 375 to 1024 to be a multiple of `config.attention_window`: 1024\n",
            "Input ids are automatically padded from 352 to 1024 to be a multiple of `config.attention_window`: 1024\n",
            "Input ids are automatically padded from 253 to 1024 to be a multiple of `config.attention_window`: 1024\n",
            "Input ids are automatically padded from 107 to 1024 to be a multiple of `config.attention_window`: 1024\n",
            "Input ids are automatically padded from 52 to 1024 to be a multiple of `config.attention_window`: 1024\n",
            "Input ids are automatically padded from 130 to 1024 to be a multiple of `config.attention_window`: 1024\n",
            "Input ids are automatically padded from 27 to 1024 to be a multiple of `config.attention_window`: 1024\n",
            "Input ids are automatically padded from 87 to 1024 to be a multiple of `config.attention_window`: 1024\n",
            "Input ids are automatically padded from 80 to 1024 to be a multiple of `config.attention_window`: 1024\n",
            "Input ids are automatically padded from 403 to 1024 to be a multiple of `config.attention_window`: 1024\n",
            "Input ids are automatically padded from 72 to 1024 to be a multiple of `config.attention_window`: 1024\n",
            "Input ids are automatically padded from 70 to 1024 to be a multiple of `config.attention_window`: 1024\n",
            "Input ids are automatically padded from 50 to 1024 to be a multiple of `config.attention_window`: 1024\n",
            "Input ids are automatically padded from 152 to 1024 to be a multiple of `config.attention_window`: 1024\n",
            "Input ids are automatically padded from 193 to 1024 to be a multiple of `config.attention_window`: 1024\n",
            "Input ids are automatically padded from 217 to 1024 to be a multiple of `config.attention_window`: 1024\n",
            "Input ids are automatically padded from 383 to 1024 to be a multiple of `config.attention_window`: 1024\n",
            "Input ids are automatically padded from 238 to 1024 to be a multiple of `config.attention_window`: 1024\n",
            "Input ids are automatically padded from 165 to 1024 to be a multiple of `config.attention_window`: 1024\n",
            "Input ids are automatically padded from 121 to 1024 to be a multiple of `config.attention_window`: 1024\n",
            "Input ids are automatically padded from 75 to 1024 to be a multiple of `config.attention_window`: 1024\n",
            "Input ids are automatically padded from 160 to 1024 to be a multiple of `config.attention_window`: 1024\n",
            "Input ids are automatically padded from 64 to 1024 to be a multiple of `config.attention_window`: 1024\n",
            "Input ids are automatically padded from 237 to 1024 to be a multiple of `config.attention_window`: 1024\n",
            "Input ids are automatically padded from 83 to 1024 to be a multiple of `config.attention_window`: 1024\n",
            "Input ids are automatically padded from 140 to 1024 to be a multiple of `config.attention_window`: 1024\n",
            "Input ids are automatically padded from 136 to 1024 to be a multiple of `config.attention_window`: 1024\n",
            "Input ids are automatically padded from 219 to 1024 to be a multiple of `config.attention_window`: 1024\n",
            "Input ids are automatically padded from 118 to 1024 to be a multiple of `config.attention_window`: 1024\n",
            "Input ids are automatically padded from 134 to 1024 to be a multiple of `config.attention_window`: 1024\n",
            "Input ids are automatically padded from 234 to 1024 to be a multiple of `config.attention_window`: 1024\n",
            "Input ids are automatically padded from 54 to 1024 to be a multiple of `config.attention_window`: 1024\n",
            "Input ids are automatically padded from 180 to 1024 to be a multiple of `config.attention_window`: 1024\n",
            "Input ids are automatically padded from 258 to 1024 to be a multiple of `config.attention_window`: 1024\n",
            "Input ids are automatically padded from 484 to 1024 to be a multiple of `config.attention_window`: 1024\n",
            "Input ids are automatically padded from 321 to 1024 to be a multiple of `config.attention_window`: 1024\n",
            "Input ids are automatically padded from 398 to 1024 to be a multiple of `config.attention_window`: 1024\n",
            "Input ids are automatically padded from 455 to 1024 to be a multiple of `config.attention_window`: 1024\n",
            "Input ids are automatically padded from 205 to 1024 to be a multiple of `config.attention_window`: 1024\n",
            "Input ids are automatically padded from 41 to 1024 to be a multiple of `config.attention_window`: 1024\n",
            "Input ids are automatically padded from 495 to 1024 to be a multiple of `config.attention_window`: 1024\n",
            "Input ids are automatically padded from 236 to 1024 to be a multiple of `config.attention_window`: 1024\n",
            "Input ids are automatically padded from 76 to 1024 to be a multiple of `config.attention_window`: 1024\n",
            "Input ids are automatically padded from 105 to 1024 to be a multiple of `config.attention_window`: 1024\n",
            "Input ids are automatically padded from 191 to 1024 to be a multiple of `config.attention_window`: 1024\n",
            "Input ids are automatically padded from 122 to 1024 to be a multiple of `config.attention_window`: 1024\n",
            "Input ids are automatically padded from 218 to 1024 to be a multiple of `config.attention_window`: 1024\n",
            "Input ids are automatically padded from 60 to 1024 to be a multiple of `config.attention_window`: 1024\n",
            "Input ids are automatically padded from 431 to 1024 to be a multiple of `config.attention_window`: 1024\n",
            "Input ids are automatically padded from 363 to 1024 to be a multiple of `config.attention_window`: 1024\n",
            "Input ids are automatically padded from 38 to 1024 to be a multiple of `config.attention_window`: 1024\n",
            "Input ids are automatically padded from 284 to 1024 to be a multiple of `config.attention_window`: 1024\n",
            "Input ids are automatically padded from 79 to 1024 to be a multiple of `config.attention_window`: 1024\n",
            "Input ids are automatically padded from 277 to 1024 to be a multiple of `config.attention_window`: 1024\n",
            "Input ids are automatically padded from 334 to 1024 to be a multiple of `config.attention_window`: 1024\n",
            "Input ids are automatically padded from 176 to 1024 to be a multiple of `config.attention_window`: 1024\n",
            "Input ids are automatically padded from 220 to 1024 to be a multiple of `config.attention_window`: 1024\n",
            "Input ids are automatically padded from 382 to 1024 to be a multiple of `config.attention_window`: 1024\n",
            "Input ids are automatically padded from 128 to 1024 to be a multiple of `config.attention_window`: 1024\n",
            "Input ids are automatically padded from 82 to 1024 to be a multiple of `config.attention_window`: 1024\n",
            "Input ids are automatically padded from 26 to 1024 to be a multiple of `config.attention_window`: 1024\n",
            "Input ids are automatically padded from 249 to 1024 to be a multiple of `config.attention_window`: 1024\n",
            "Input ids are automatically padded from 144 to 1024 to be a multiple of `config.attention_window`: 1024\n",
            "Input ids are automatically padded from 192 to 1024 to be a multiple of `config.attention_window`: 1024\n",
            "Input ids are automatically padded from 109 to 1024 to be a multiple of `config.attention_window`: 1024\n",
            "Input ids are automatically padded from 78 to 1024 to be a multiple of `config.attention_window`: 1024\n",
            "Input ids are automatically padded from 279 to 1024 to be a multiple of `config.attention_window`: 1024\n",
            "Input ids are automatically padded from 348 to 1024 to be a multiple of `config.attention_window`: 1024\n",
            "Input ids are automatically padded from 170 to 1024 to be a multiple of `config.attention_window`: 1024\n",
            "Input ids are automatically padded from 270 to 1024 to be a multiple of `config.attention_window`: 1024\n",
            "Input ids are automatically padded from 323 to 1024 to be a multiple of `config.attention_window`: 1024\n",
            "Input ids are automatically padded from 174 to 1024 to be a multiple of `config.attention_window`: 1024\n",
            "Input ids are automatically padded from 449 to 1024 to be a multiple of `config.attention_window`: 1024\n",
            "Input ids are automatically padded from 283 to 1024 to be a multiple of `config.attention_window`: 1024\n",
            "Input ids are automatically padded from 203 to 1024 to be a multiple of `config.attention_window`: 1024\n",
            "Input ids are automatically padded from 97 to 1024 to be a multiple of `config.attention_window`: 1024\n",
            "Input ids are automatically padded from 257 to 1024 to be a multiple of `config.attention_window`: 1024\n",
            "Input ids are automatically padded from 316 to 1024 to be a multiple of `config.attention_window`: 1024\n",
            "Input ids are automatically padded from 225 to 1024 to be a multiple of `config.attention_window`: 1024\n",
            "Input ids are automatically padded from 148 to 1024 to be a multiple of `config.attention_window`: 1024\n",
            "Input ids are automatically padded from 94 to 1024 to be a multiple of `config.attention_window`: 1024\n",
            "Input ids are automatically padded from 119 to 1024 to be a multiple of `config.attention_window`: 1024\n",
            "Input ids are automatically padded from 103 to 1024 to be a multiple of `config.attention_window`: 1024\n",
            "Input ids are automatically padded from 45 to 1024 to be a multiple of `config.attention_window`: 1024\n",
            "Input ids are automatically padded from 93 to 1024 to be a multiple of `config.attention_window`: 1024\n",
            "Input ids are automatically padded from 108 to 1024 to be a multiple of `config.attention_window`: 1024\n",
            "Input ids are automatically padded from 71 to 1024 to be a multiple of `config.attention_window`: 1024\n",
            "Input ids are automatically padded from 204 to 1024 to be a multiple of `config.attention_window`: 1024\n",
            "Input ids are automatically padded from 125 to 1024 to be a multiple of `config.attention_window`: 1024\n",
            "Input ids are automatically padded from 187 to 1024 to be a multiple of `config.attention_window`: 1024\n",
            "Input ids are automatically padded from 164 to 1024 to be a multiple of `config.attention_window`: 1024\n",
            "Input ids are automatically padded from 240 to 1024 to be a multiple of `config.attention_window`: 1024\n",
            "Input ids are automatically padded from 195 to 1024 to be a multiple of `config.attention_window`: 1024\n",
            "Input ids are automatically padded from 247 to 1024 to be a multiple of `config.attention_window`: 1024\n",
            "Input ids are automatically padded from 68 to 1024 to be a multiple of `config.attention_window`: 1024\n",
            "Input ids are automatically padded from 85 to 1024 to be a multiple of `config.attention_window`: 1024\n",
            "Input ids are automatically padded from 406 to 1024 to be a multiple of `config.attention_window`: 1024\n",
            "Input ids are automatically padded from 380 to 1024 to be a multiple of `config.attention_window`: 1024\n",
            "Input ids are automatically padded from 245 to 1024 to be a multiple of `config.attention_window`: 1024\n",
            "Input ids are automatically padded from 231 to 1024 to be a multiple of `config.attention_window`: 1024\n",
            "Input ids are automatically padded from 229 to 1024 to be a multiple of `config.attention_window`: 1024\n",
            "Input ids are automatically padded from 96 to 1024 to be a multiple of `config.attention_window`: 1024\n",
            "Input ids are automatically padded from 235 to 1024 to be a multiple of `config.attention_window`: 1024\n",
            "Input ids are automatically padded from 149 to 1024 to be a multiple of `config.attention_window`: 1024\n",
            "Input ids are automatically padded from 311 to 1024 to be a multiple of `config.attention_window`: 1024\n",
            "Input ids are automatically padded from 456 to 1024 to be a multiple of `config.attention_window`: 1024\n",
            "Input ids are automatically padded from 351 to 1024 to be a multiple of `config.attention_window`: 1024\n",
            "Input ids are automatically padded from 84 to 1024 to be a multiple of `config.attention_window`: 1024\n",
            "Input ids are automatically padded from 44 to 1024 to be a multiple of `config.attention_window`: 1024\n",
            "Input ids are automatically padded from 213 to 1024 to be a multiple of `config.attention_window`: 1024\n",
            "Input ids are automatically padded from 509 to 1024 to be a multiple of `config.attention_window`: 1024\n",
            "Input ids are automatically padded from 172 to 1024 to be a multiple of `config.attention_window`: 1024\n",
            "Input ids are automatically padded from 86 to 1024 to be a multiple of `config.attention_window`: 1024\n",
            "Input ids are automatically padded from 309 to 1024 to be a multiple of `config.attention_window`: 1024\n",
            "Input ids are automatically padded from 161 to 1024 to be a multiple of `config.attention_window`: 1024\n",
            "Input ids are automatically padded from 65 to 1024 to be a multiple of `config.attention_window`: 1024\n",
            "Input ids are automatically padded from 285 to 1024 to be a multiple of `config.attention_window`: 1024\n",
            "Input ids are automatically padded from 189 to 1024 to be a multiple of `config.attention_window`: 1024\n",
            "Input ids are automatically padded from 186 to 1024 to be a multiple of `config.attention_window`: 1024\n",
            "Input ids are automatically padded from 58 to 1024 to be a multiple of `config.attention_window`: 1024\n",
            "Input ids are automatically padded from 197 to 1024 to be a multiple of `config.attention_window`: 1024\n",
            "Input ids are automatically padded from 251 to 1024 to be a multiple of `config.attention_window`: 1024\n",
            "Input ids are automatically padded from 343 to 1024 to be a multiple of `config.attention_window`: 1024\n",
            "Input ids are automatically padded from 273 to 1024 to be a multiple of `config.attention_window`: 1024\n",
            "Input ids are automatically padded from 260 to 1024 to be a multiple of `config.attention_window`: 1024\n",
            "Input ids are automatically padded from 173 to 1024 to be a multiple of `config.attention_window`: 1024\n",
            "Input ids are automatically padded from 175 to 1024 to be a multiple of `config.attention_window`: 1024\n",
            "Input ids are automatically padded from 359 to 1024 to be a multiple of `config.attention_window`: 1024\n",
            "Input ids are automatically padded from 365 to 1024 to be a multiple of `config.attention_window`: 1024\n",
            "Input ids are automatically padded from 388 to 1024 to be a multiple of `config.attention_window`: 1024\n",
            "Input ids are automatically padded from 304 to 1024 to be a multiple of `config.attention_window`: 1024\n",
            "Input ids are automatically padded from 364 to 1024 to be a multiple of `config.attention_window`: 1024\n",
            "Input ids are automatically padded from 416 to 1024 to be a multiple of `config.attention_window`: 1024\n",
            "Input ids are automatically padded from 762 to 1024 to be a multiple of `config.attention_window`: 1024\n",
            "Input ids are automatically padded from 111 to 1024 to be a multiple of `config.attention_window`: 1024\n",
            "Input ids are automatically padded from 233 to 1024 to be a multiple of `config.attention_window`: 1024\n",
            "Input ids are automatically padded from 410 to 1024 to be a multiple of `config.attention_window`: 1024\n",
            "Input ids are automatically padded from 337 to 1024 to be a multiple of `config.attention_window`: 1024\n",
            "Input ids are automatically padded from 547 to 1024 to be a multiple of `config.attention_window`: 1024\n",
            "Input ids are automatically padded from 40 to 1024 to be a multiple of `config.attention_window`: 1024\n",
            "Input ids are automatically padded from 274 to 1024 to be a multiple of `config.attention_window`: 1024\n",
            "Input ids are automatically padded from 293 to 1024 to be a multiple of `config.attention_window`: 1024\n",
            "Input ids are automatically padded from 230 to 1024 to be a multiple of `config.attention_window`: 1024\n",
            "Input ids are automatically padded from 132 to 1024 to be a multiple of `config.attention_window`: 1024\n",
            "Input ids are automatically padded from 135 to 1024 to be a multiple of `config.attention_window`: 1024\n",
            "Input ids are automatically padded from 181 to 1024 to be a multiple of `config.attention_window`: 1024\n",
            "Input ids are automatically padded from 243 to 1024 to be a multiple of `config.attention_window`: 1024\n",
            "Input ids are automatically padded from 661 to 1024 to be a multiple of `config.attention_window`: 1024\n",
            "Input ids are automatically padded from 163 to 1024 to be a multiple of `config.attention_window`: 1024\n",
            "Input ids are automatically padded from 25 to 1024 to be a multiple of `config.attention_window`: 1024\n",
            "Input ids are automatically padded from 226 to 1024 to be a multiple of `config.attention_window`: 1024\n",
            "Input ids are automatically padded from 300 to 1024 to be a multiple of `config.attention_window`: 1024\n",
            "Input ids are automatically padded from 432 to 1024 to be a multiple of `config.attention_window`: 1024\n",
            "Input ids are automatically padded from 178 to 1024 to be a multiple of `config.attention_window`: 1024\n",
            "Input ids are automatically padded from 395 to 1024 to be a multiple of `config.attention_window`: 1024\n",
            "Input ids are automatically padded from 314 to 1024 to be a multiple of `config.attention_window`: 1024\n",
            "Input ids are automatically padded from 147 to 1024 to be a multiple of `config.attention_window`: 1024\n",
            "Input ids are automatically padded from 497 to 1024 to be a multiple of `config.attention_window`: 1024\n",
            "Input ids are automatically padded from 393 to 1024 to be a multiple of `config.attention_window`: 1024\n",
            "Input ids are automatically padded from 492 to 1024 to be a multiple of `config.attention_window`: 1024\n",
            "Input ids are automatically padded from 53 to 1024 to be a multiple of `config.attention_window`: 1024\n",
            "Input ids are automatically padded from 246 to 1024 to be a multiple of `config.attention_window`: 1024\n",
            "Input ids are automatically padded from 353 to 1024 to be a multiple of `config.attention_window`: 1024\n",
            "Input ids are automatically padded from 259 to 1024 to be a multiple of `config.attention_window`: 1024\n",
            "Input ids are automatically padded from 379 to 1024 to be a multiple of `config.attention_window`: 1024\n",
            "Input ids are automatically padded from 530 to 1024 to be a multiple of `config.attention_window`: 1024\n",
            "Input ids are automatically padded from 566 to 1024 to be a multiple of `config.attention_window`: 1024\n",
            "Input ids are automatically padded from 99 to 1024 to be a multiple of `config.attention_window`: 1024\n",
            "Input ids are automatically padded from 102 to 1024 to be a multiple of `config.attention_window`: 1024\n",
            "Input ids are automatically padded from 362 to 1024 to be a multiple of `config.attention_window`: 1024\n",
            "Input ids are automatically padded from 482 to 1024 to be a multiple of `config.attention_window`: 1024\n",
            "Input ids are automatically padded from 294 to 1024 to be a multiple of `config.attention_window`: 1024\n",
            "Input ids are automatically padded from 457 to 1024 to be a multiple of `config.attention_window`: 1024\n",
            "Input ids are automatically padded from 55 to 1024 to be a multiple of `config.attention_window`: 1024\n",
            "Input ids are automatically padded from 211 to 1024 to be a multiple of `config.attention_window`: 1024\n",
            "Input ids are automatically padded from 347 to 1024 to be a multiple of `config.attention_window`: 1024\n",
            "Input ids are automatically padded from 133 to 1024 to be a multiple of `config.attention_window`: 1024\n",
            "Input ids are automatically padded from 324 to 1024 to be a multiple of `config.attention_window`: 1024\n",
            "Input ids are automatically padded from 223 to 1024 to be a multiple of `config.attention_window`: 1024\n",
            "Input ids are automatically padded from 481 to 1024 to be a multiple of `config.attention_window`: 1024\n",
            "Input ids are automatically padded from 24 to 1024 to be a multiple of `config.attention_window`: 1024\n",
            "Input ids are automatically padded from 434 to 1024 to be a multiple of `config.attention_window`: 1024\n",
            "Input ids are automatically padded from 389 to 1024 to be a multiple of `config.attention_window`: 1024\n",
            "Input ids are automatically padded from 113 to 1024 to be a multiple of `config.attention_window`: 1024\n",
            "Input ids are automatically padded from 325 to 1024 to be a multiple of `config.attention_window`: 1024\n",
            "Input ids are automatically padded from 312 to 1024 to be a multiple of `config.attention_window`: 1024\n",
            "Input ids are automatically padded from 188 to 1024 to be a multiple of `config.attention_window`: 1024\n",
            "Input ids are automatically padded from 287 to 1024 to be a multiple of `config.attention_window`: 1024\n",
            "Input ids are automatically padded from 315 to 1024 to be a multiple of `config.attention_window`: 1024\n",
            "Input ids are automatically padded from 221 to 1024 to be a multiple of `config.attention_window`: 1024\n",
            "Input ids are automatically padded from 507 to 1024 to be a multiple of `config.attention_window`: 1024\n",
            "Input ids are automatically padded from 215 to 1024 to be a multiple of `config.attention_window`: 1024\n",
            "Input ids are automatically padded from 539 to 1024 to be a multiple of `config.attention_window`: 1024\n",
            "Input ids are automatically padded from 131 to 1024 to be a multiple of `config.attention_window`: 1024\n",
            "Input ids are automatically padded from 117 to 1024 to be a multiple of `config.attention_window`: 1024\n",
            "Input ids are automatically padded from 239 to 1024 to be a multiple of `config.attention_window`: 1024\n",
            "Input ids are automatically padded from 404 to 1024 to be a multiple of `config.attention_window`: 1024\n",
            "Input ids are automatically padded from 374 to 1024 to be a multiple of `config.attention_window`: 1024\n",
            "Input ids are automatically padded from 391 to 1024 to be a multiple of `config.attention_window`: 1024\n",
            "Input ids are automatically padded from 418 to 1024 to be a multiple of `config.attention_window`: 1024\n",
            "Input ids are automatically padded from 179 to 1024 to be a multiple of `config.attention_window`: 1024\n",
            "Input ids are automatically padded from 518 to 1024 to be a multiple of `config.attention_window`: 1024\n",
            "Input ids are automatically padded from 537 to 1024 to be a multiple of `config.attention_window`: 1024\n",
            "Input ids are automatically padded from 268 to 1024 to be a multiple of `config.attention_window`: 1024\n",
            "Input ids are automatically padded from 454 to 1024 to be a multiple of `config.attention_window`: 1024\n",
            "Input ids are automatically padded from 409 to 1024 to be a multiple of `config.attention_window`: 1024\n",
            "Input ids are automatically padded from 263 to 1024 to be a multiple of `config.attention_window`: 1024\n",
            "Input ids are automatically padded from 21 to 1024 to be a multiple of `config.attention_window`: 1024\n",
            "Input ids are automatically padded from 355 to 1024 to be a multiple of `config.attention_window`: 1024\n",
            "Input ids are automatically padded from 446 to 1024 to be a multiple of `config.attention_window`: 1024\n"
          ]
        },
        {
          "data": {
            "text/plain": [
              "TrainOutput(global_step=51, training_loss=2.754856637879914, metrics={'train_runtime': 740.9065, 'train_samples_per_second': 1.105, 'train_steps_per_second': 0.069, 'total_flos': 309825448034304.0, 'train_loss': 2.754856637879914, 'epoch': 1.0})"
            ]
          },
          "execution_count": 18,
          "metadata": {},
          "output_type": "execute_result"
        }
      ],
      "source": [
        "trainer.train()"
      ]
    },
    {
      "cell_type": "code",
      "execution_count": 19,
      "metadata": {
        "id": "if8sc5Q6Czwg"
      },
      "outputs": [],
      "source": [
        "# Evaluation\n",
        "\n",
        "def generate_batch_sized_chunks(list_of_elements, batch_size):\n",
        "    \"\"\"split the dataset into smaller batches that we can process simultaneously\n",
        "    Yield successive batch-sized chunks from list_of_elements.\"\"\"\n",
        "    for i in range(0, len(list_of_elements), batch_size):\n",
        "        yield list_of_elements[i : i + batch_size]\n",
        "\n",
        "\n",
        "\n",
        "def calculate_metric_on_test_ds(dataset, metric, model, tokenizer,\n",
        "                               batch_size=16, device=device,\n",
        "                               column_text=\"article\",\n",
        "                               column_summary=\"highlights\"):\n",
        "    article_batches = list(generate_batch_sized_chunks(dataset[column_text], batch_size))\n",
        "    target_batches = list(generate_batch_sized_chunks(dataset[column_summary], batch_size))\n",
        "\n",
        "    for article_batch, target_batch in tqdm(\n",
        "        zip(article_batches, target_batches), total=len(article_batches)):\n",
        "\n",
        "        inputs = tokenizer(article_batch, max_length=1024,  truncation=True,\n",
        "                        padding=\"max_length\", return_tensors=\"pt\")\n",
        "\n",
        "        summaries = model.generate(input_ids=inputs[\"input_ids\"].to(device),\n",
        "                         attention_mask=inputs[\"attention_mask\"].to(device),\n",
        "                         length_penalty=0.8, num_beams=8, max_length=128)\n",
        "        ''' parameter for length penalty ensures that the model does not generate sequences that are too long. '''\n",
        "\n",
        "        # Finally, we decode the generated texts,\n",
        "        # replace the  token, and add the decoded texts with the references to the metric.\n",
        "        decoded_summaries = [tokenizer.decode(s, skip_special_tokens=True,\n",
        "                                clean_up_tokenization_spaces=True)\n",
        "               for s in summaries]\n",
        "\n",
        "        decoded_summaries = [d.replace(\"\", \" \") for d in decoded_summaries]\n",
        "\n",
        "\n",
        "        metric.add_batch(predictions=decoded_summaries, references=target_batch)\n",
        "\n",
        "    #  Finally compute and return the ROUGE scores.\n",
        "    score = metric.compute()\n",
        "    return score"
      ]
    },
    {
      "cell_type": "code",
      "execution_count": 20,
      "metadata": {
        "colab": {
          "base_uri": "https://localhost:8080/"
        },
        "id": "917gFi2PMG1s",
        "outputId": "658f35c4-4c66-43ce-82f3-ee5f54016338"
      },
      "outputs": [
        {
          "name": "stderr",
          "output_type": "stream",
          "text": [
            "<ipython-input-20-5a43aadd1b0e>:2: FutureWarning: load_metric is deprecated and will be removed in the next major version of datasets. Use 'evaluate.load' instead, from the new library 🤗 Evaluate: https://huggingface.co/docs/evaluate\n",
            "  rouge_metric = load_metric('rouge')\n",
            "/usr/local/lib/python3.10/dist-packages/datasets/load.py:753: FutureWarning: The repository for rouge contains custom code which must be executed to correctly load the metric. You can inspect the repository content at https://raw.githubusercontent.com/huggingface/datasets/2.17.0/metrics/rouge/rouge.py\n",
            "You can avoid this message in future by passing the argument `trust_remote_code=True`.\n",
            "Passing `trust_remote_code=True` will be mandatory to load this metric from the next major release of `datasets`.\n",
            "  warnings.warn(\n"
          ]
        }
      ],
      "source": [
        "rouge_names = [\"rouge1\", \"rouge2\", \"rougeL\", \"rougeLsum\"]\n",
        "rouge_metric = load_metric('rouge')"
      ]
    },
    {
      "cell_type": "code",
      "execution_count": 21,
      "metadata": {
        "colab": {
          "base_uri": "https://localhost:8080/",
          "height": 99
        },
        "id": "z1BOJpvuMKNL",
        "outputId": "bca1bc41-5b28-4760-a51c-812845f1bbad"
      },
      "outputs": [
        {
          "name": "stderr",
          "output_type": "stream",
          "text": [
            "100%|██████████| 5/5 [00:08<00:00,  1.69s/it]\n"
          ]
        },
        {
          "data": {
            "application/vnd.google.colaboratory.intrinsic+json": {
              "summary": "{\n  \"name\": \"pd\",\n  \"rows\": 1,\n  \"fields\": [\n    {\n      \"column\": \"rouge1\",\n      \"properties\": {\n        \"dtype\": \"number\",\n        \"std\": NaN,\n        \"min\": 0.0316924801702389,\n        \"max\": 0.0316924801702389,\n        \"samples\": [\n          0.0316924801702389\n        ],\n        \"num_unique_values\": 1,\n        \"semantic_type\": \"\",\n        \"description\": \"\"\n      }\n    },\n    {\n      \"column\": \"rouge2\",\n      \"properties\": {\n        \"dtype\": \"number\",\n        \"std\": NaN,\n        \"min\": 0.0,\n        \"max\": 0.0,\n        \"samples\": [\n          0.0\n        ],\n        \"num_unique_values\": 1,\n        \"semantic_type\": \"\",\n        \"description\": \"\"\n      }\n    },\n    {\n      \"column\": \"rougeL\",\n      \"properties\": {\n        \"dtype\": \"number\",\n        \"std\": NaN,\n        \"min\": 0.03175269900564191,\n        \"max\": 0.03175269900564191,\n        \"samples\": [\n          0.03175269900564191\n        ],\n        \"num_unique_values\": 1,\n        \"semantic_type\": \"\",\n        \"description\": \"\"\n      }\n    },\n    {\n      \"column\": \"rougeLsum\",\n      \"properties\": {\n        \"dtype\": \"number\",\n        \"std\": NaN,\n        \"min\": 0.031728866483359666,\n        \"max\": 0.031728866483359666,\n        \"samples\": [\n          0.031728866483359666\n        ],\n        \"num_unique_values\": 1,\n        \"semantic_type\": \"\",\n        \"description\": \"\"\n      }\n    }\n  ]\n}",
              "type": "dataframe"
            },
            "text/html": [
              "\n",
              "  <div id=\"df-0ddfb94b-aa21-409b-89d4-84653a390969\" class=\"colab-df-container\">\n",
              "    <div>\n",
              "<style scoped>\n",
              "    .dataframe tbody tr th:only-of-type {\n",
              "        vertical-align: middle;\n",
              "    }\n",
              "\n",
              "    .dataframe tbody tr th {\n",
              "        vertical-align: top;\n",
              "    }\n",
              "\n",
              "    .dataframe thead th {\n",
              "        text-align: right;\n",
              "    }\n",
              "</style>\n",
              "<table border=\"1\" class=\"dataframe\">\n",
              "  <thead>\n",
              "    <tr style=\"text-align: right;\">\n",
              "      <th></th>\n",
              "      <th>rouge1</th>\n",
              "      <th>rouge2</th>\n",
              "      <th>rougeL</th>\n",
              "      <th>rougeLsum</th>\n",
              "    </tr>\n",
              "  </thead>\n",
              "  <tbody>\n",
              "    <tr>\n",
              "      <th>Led</th>\n",
              "      <td>0.031692</td>\n",
              "      <td>0.0</td>\n",
              "      <td>0.031753</td>\n",
              "      <td>0.031729</td>\n",
              "    </tr>\n",
              "  </tbody>\n",
              "</table>\n",
              "</div>\n",
              "    <div class=\"colab-df-buttons\">\n",
              "\n",
              "  <div class=\"colab-df-container\">\n",
              "    <button class=\"colab-df-convert\" onclick=\"convertToInteractive('df-0ddfb94b-aa21-409b-89d4-84653a390969')\"\n",
              "            title=\"Convert this dataframe to an interactive table.\"\n",
              "            style=\"display:none;\">\n",
              "\n",
              "  <svg xmlns=\"http://www.w3.org/2000/svg\" height=\"24px\" viewBox=\"0 -960 960 960\">\n",
              "    <path d=\"M120-120v-720h720v720H120Zm60-500h600v-160H180v160Zm220 220h160v-160H400v160Zm0 220h160v-160H400v160ZM180-400h160v-160H180v160Zm440 0h160v-160H620v160ZM180-180h160v-160H180v160Zm440 0h160v-160H620v160Z\"/>\n",
              "  </svg>\n",
              "    </button>\n",
              "\n",
              "  <style>\n",
              "    .colab-df-container {\n",
              "      display:flex;\n",
              "      gap: 12px;\n",
              "    }\n",
              "\n",
              "    .colab-df-convert {\n",
              "      background-color: #E8F0FE;\n",
              "      border: none;\n",
              "      border-radius: 50%;\n",
              "      cursor: pointer;\n",
              "      display: none;\n",
              "      fill: #1967D2;\n",
              "      height: 32px;\n",
              "      padding: 0 0 0 0;\n",
              "      width: 32px;\n",
              "    }\n",
              "\n",
              "    .colab-df-convert:hover {\n",
              "      background-color: #E2EBFA;\n",
              "      box-shadow: 0px 1px 2px rgba(60, 64, 67, 0.3), 0px 1px 3px 1px rgba(60, 64, 67, 0.15);\n",
              "      fill: #174EA6;\n",
              "    }\n",
              "\n",
              "    .colab-df-buttons div {\n",
              "      margin-bottom: 4px;\n",
              "    }\n",
              "\n",
              "    [theme=dark] .colab-df-convert {\n",
              "      background-color: #3B4455;\n",
              "      fill: #D2E3FC;\n",
              "    }\n",
              "\n",
              "    [theme=dark] .colab-df-convert:hover {\n",
              "      background-color: #434B5C;\n",
              "      box-shadow: 0px 1px 3px 1px rgba(0, 0, 0, 0.15);\n",
              "      filter: drop-shadow(0px 1px 2px rgba(0, 0, 0, 0.3));\n",
              "      fill: #FFFFFF;\n",
              "    }\n",
              "  </style>\n",
              "\n",
              "    <script>\n",
              "      const buttonEl =\n",
              "        document.querySelector('#df-0ddfb94b-aa21-409b-89d4-84653a390969 button.colab-df-convert');\n",
              "      buttonEl.style.display =\n",
              "        google.colab.kernel.accessAllowed ? 'block' : 'none';\n",
              "\n",
              "      async function convertToInteractive(key) {\n",
              "        const element = document.querySelector('#df-0ddfb94b-aa21-409b-89d4-84653a390969');\n",
              "        const dataTable =\n",
              "          await google.colab.kernel.invokeFunction('convertToInteractive',\n",
              "                                                    [key], {});\n",
              "        if (!dataTable) return;\n",
              "\n",
              "        const docLinkHtml = 'Like what you see? Visit the ' +\n",
              "          '<a target=\"_blank\" href=https://colab.research.google.com/notebooks/data_table.ipynb>data table notebook</a>'\n",
              "          + ' to learn more about interactive tables.';\n",
              "        element.innerHTML = '';\n",
              "        dataTable['output_type'] = 'display_data';\n",
              "        await google.colab.output.renderOutput(dataTable, element);\n",
              "        const docLink = document.createElement('div');\n",
              "        docLink.innerHTML = docLinkHtml;\n",
              "        element.appendChild(docLink);\n",
              "      }\n",
              "    </script>\n",
              "  </div>\n",
              "\n",
              "\n",
              "    </div>\n",
              "  </div>\n"
            ],
            "text/plain": [
              "       rouge1  rouge2    rougeL  rougeLsum\n",
              "Led  0.031692     0.0  0.031753   0.031729"
            ]
          },
          "execution_count": 21,
          "metadata": {},
          "output_type": "execute_result"
        }
      ],
      "source": [
        "score = calculate_metric_on_test_ds(\n",
        "    dataset_samsum['test'][0:10], rouge_metric, trainer.model, tokenizer, batch_size = 2, column_text = 'dialogue', column_summary= 'summary'\n",
        ")\n",
        "\n",
        "rouge_dict = dict((rn, score[rn].mid.fmeasure ) for rn in rouge_names )\n",
        "\n",
        "pd.DataFrame(rouge_dict, index = [f'Led'] )"
      ]
    },
    {
      "cell_type": "code",
      "execution_count": 23,
      "metadata": {
        "colab": {
          "base_uri": "https://localhost:8080/"
        },
        "id": "8g-0JoLnMRbI",
        "outputId": "5eba34f5-3d90-44c3-9e9c-c6db2832bffd"
      },
      "outputs": [
        {
          "name": "stderr",
          "output_type": "stream",
          "text": [
            "Some non-default generation parameters are set in the model config. These should go into a GenerationConfig file (https://huggingface.co/docs/transformers/generation_strategies#save-a-custom-decoding-strategy-with-your-model) instead. This warning will be raised to an exception in v4.41.\n",
            "Non-default generation parameters: {'max_length': 1024, 'min_length': 8, 'early_stopping': True, 'num_beams': 4, 'repetition_penalty': 3.5, 'length_penalty': 0.8, 'no_repeat_ngram_size': 3}\n"
          ]
        }
      ],
      "source": [
        "## Save model\n",
        "model_Led.save_pretrained(\"LED-samsum-model\")"
      ]
    },
    {
      "cell_type": "code",
      "execution_count": 24,
      "metadata": {
        "colab": {
          "base_uri": "https://localhost:8080/"
        },
        "id": "AaX9TwCpS0uf",
        "outputId": "c40d2e2e-64a4-4a6f-ab75-14b96fb7e367"
      },
      "outputs": [
        {
          "data": {
            "text/plain": [
              "('tokenizer/tokenizer_config.json',\n",
              " 'tokenizer/special_tokens_map.json',\n",
              " 'tokenizer/vocab.json',\n",
              " 'tokenizer/merges.txt',\n",
              " 'tokenizer/added_tokens.json')"
            ]
          },
          "execution_count": 24,
          "metadata": {},
          "output_type": "execute_result"
        }
      ],
      "source": [
        "## Save tokenizer\n",
        "tokenizer.save_pretrained(\"tokenizer\")"
      ]
    },
    {
      "cell_type": "code",
      "execution_count": 25,
      "metadata": {
        "id": "K6folWj7S0rd"
      },
      "outputs": [],
      "source": [
        "\n",
        "#Load\n",
        "tokenizer = LEDTokenizer.from_pretrained(\"/content/tokenizer\")"
      ]
    },
    {
      "cell_type": "code",
      "execution_count": 27,
      "metadata": {
        "colab": {
          "base_uri": "https://localhost:8080/"
        },
        "id": "LnZjk4MaS0dg",
        "outputId": "9f46e656-6a4e-4054-d5a8-761fc83fa9fb"
      },
      "outputs": [
        {
          "name": "stdout",
          "output_type": "stream",
          "text": [
            "Dialogue:\n",
            "Hannah: Hey, do you have Betty's number?\n",
            "Amanda: Lemme check\n",
            "Hannah: <file_gif>\n",
            "Amanda: Sorry, can't find it.\n",
            "Amanda: Ask Larry\n",
            "Amanda: He called her last time we were at the park together\n",
            "Hannah: I don't know him well\n",
            "Hannah: <file_gif>\n",
            "Amanda: Don't be shy, he's very nice\n",
            "Hannah: If you say so..\n",
            "Hannah: I'd rather you texted him\n",
            "Amanda: Just text him 🙂\n",
            "Hannah: Urgh.. Alright\n",
            "Hannah: Bye\n",
            "Amanda: Bye bye\n",
            "\n",
            "Reference Summary:\n",
            "Hannah needs Betty's number but Amanda doesn't have it. She needs to contact Larry.\n",
            "\n",
            "Model Summary:\n",
            "Amanda doesn't have Betty's number, so she asks Hannah to text Larry for her. Hannah does not know Larry very well.\n"
          ]
        }
      ],
      "source": [
        "#Prediction\n",
        "\n",
        "gen_kwargs = {\"length_penalty\": 0.8, \"num_beams\":8, \"max_length\": 128}\n",
        "\n",
        "\n",
        "\n",
        "sample_text = dataset_samsum[\"test\"][0][\"dialogue\"]\n",
        "\n",
        "reference = dataset_samsum[\"test\"][0][\"summary\"]\n",
        "\n",
        "pipe = pipeline(\"summarization\", model= model_Led ,tokenizer=tokenizer)\n",
        "\n",
        "##\n",
        "print(\"Dialogue:\")\n",
        "print(sample_text)\n",
        "\n",
        "\n",
        "print(\"\\nReference Summary:\")\n",
        "print(reference)\n",
        "\n",
        "\n",
        "print(\"\\nModel Summary:\")\n",
        "print(pipe(sample_text, **gen_kwargs)[0][\"summary_text\"])"
      ]
    },
    {
      "cell_type": "markdown",
      "metadata": {
        "id": "ncT29gYAS77d"
      },
      "source": []
    }
  ],
  "metadata": {
    "accelerator": "GPU",
    "colab": {
      "gpuType": "T4",
      "provenance": []
    },
    "kernelspec": {
      "display_name": "Python 3",
      "name": "python3"
    },
    "language_info": {
      "codemirror_mode": {
        "name": "ipython",
        "version": 3
      },
      "file_extension": ".py",
      "mimetype": "text/x-python",
      "name": "python",
      "nbconvert_exporter": "python",
      "pygments_lexer": "ipython3",
      "version": "3.10.13"
    }
  },
  "nbformat": 4,
  "nbformat_minor": 0
}
