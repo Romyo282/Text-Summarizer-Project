{
 "cells": [
  {
   "cell_type": "markdown",
   "metadata": {},
   "source": [
    "**Download required packages**\n"
   ]
  },
  {
   "cell_type": "code",
   "execution_count": 2,
   "metadata": {},
   "outputs": [
    {
     "name": "stdout",
     "output_type": "stream",
     "text": [
      "Note: you may need to restart the kernel to use updated packages.\n"
     ]
    },
    {
     "name": "stderr",
     "output_type": "stream",
     "text": [
      "Access is denied.\n"
     ]
    }
   ],
   "source": [
    "#%pip install --upgrade pip\n",
    "#%pip install -U PyMuPDF\n",
    "%pip install PyMuPDF-<...>.whl\n",
    "#%pip install fitz\n",
    "# %pip install datasets==1.2.1\n",
    "# %pip install rouge_score"
   ]
  },
  {
   "cell_type": "markdown",
   "metadata": {},
   "source": [
    "**Importing the libraries required**"
   ]
  },
  {
   "cell_type": "code",
   "execution_count": null,
   "metadata": {},
   "outputs": [],
   "source": [
    "# for Pdf file\n",
    "import PYMuPDF\n",
    "\n",
    "# For wordcloud\n",
    "from wordcloud import WordCloud\n",
    "import matplotlib.pyplot as plt\n",
    "\n",
    "# Models for text summarization\n",
    "from transformers import LEDForConditionalGeneration, LEDTokenizer,AutoConfig\n",
    "\n",
    "\n",
    "# To ignore warnings\n",
    "import warnings\n",
    "warnings.filterwarnings('ignore')\n"
   ]
  },
  {
   "cell_type": "code",
   "execution_count": null,
   "metadata": {},
   "outputs": [],
   "source": [
    "# Import Independenties.\n",
    "from pathlib import Path\n",
    "import torch\n",
    "import numpy as np # linear algebra\n",
    "import pandas as pd # data processing, CSV file I/O (e.g. pd.read_csv)\n"
   ]
  },
  {
   "cell_type": "markdown",
   "metadata": {},
   "source": [
    "Import Model And It's Tokenizer And Config files"
   ]
  },
  {
   "cell_type": "code",
   "execution_count": null,
   "metadata": {},
   "outputs": [],
   "source": [
    "\n",
    "model_path = f'E:/Model Matiral/the model'\n",
    "tokenizer = LEDTokenizer.from_pretrained(model_path)\n",
    "model = LEDForConditionalGeneration.from_pretrained(model_path)\n",
    "\n",
    "config = AutoConfig.from_pretrained(model_path)"
   ]
  },
  {
   "cell_type": "markdown",
   "metadata": {},
   "source": [
    "Load the pdf file And Print number of pages and metadata of pdf."
   ]
  },
  {
   "cell_type": "code",
   "execution_count": null,
   "metadata": {},
   "outputs": [],
   "source": [
    "# Open the PDF document\n",
    "pdf_doc = fitz.open(f\"E:/Model Matiral/the model/toughtimesneverlast.pdf\")\n",
    "\n",
    "num_pages = pdf_doc.page_count\n",
    "print(f\"Number of pages: {num_pages}\")\n",
    "metadata = pdf_doc.metadata\n",
    "print(f\"Metadata: {metadata}\")"
   ]
  },
  {
   "cell_type": "markdown",
   "metadata": {},
   "source": [
    "Convert It To Text"
   ]
  },
  {
   "cell_type": "code",
   "execution_count": null,
   "metadata": {},
   "outputs": [],
   "source": [
    "text_of_book = \"\"\n",
    "\n",
    "# Loop through all pages and concatenate text\n",
    "for page_number in range(pdf_doc.page_count):\n",
    "    page = pdf_doc[page_number]\n",
    "    text = page.get_text()\n",
    "    \n",
    "    # Concatenate text from each page\n",
    "    text_of_book += text\n",
    "\n",
    "# Print the concatenated text. This concatnated text is the whole book.\n",
    "print(text_of_book)"
   ]
  },
  {
   "cell_type": "markdown",
   "metadata": {},
   "source": [
    "**Function to summarize text**"
   ]
  },
  {
   "cell_type": "code",
   "execution_count": null,
   "metadata": {},
   "outputs": [],
   "source": [
    "def abstractive_summarization(text, model_path=model_path, max_length= 1000):\n",
    "    \n",
    "    # Tokenize and generate summary\n",
    "    inputs_ids = tokenizer.encode(text, return_tensors=\"pt\",truncation=True,max_length=2000)\n",
    "    \n",
    "    # Global attention on the first token \n",
    "    global_attention_mask = torch.zeros_like(inputs_ids)\n",
    "    global_attention_mask[:, 0] = 1\n",
    "    \n",
    "    sequences = model.generate(inputs_ids, global_attention_mask=global_attention_mask, max_length=2000, min_length=50,length_penalty=2.0, num_beams=5, early_stopping=True).sequences\n",
    "    summary = tokenizer.batch_decode(sequences[0], skip_special_tokens=True,clean_up_tokenization_spaces=True)\n",
    "\n",
    "    return summary"
   ]
  },
  {
   "cell_type": "markdown",
   "metadata": {},
   "source": [
    "Perform abstractive summarization"
   ]
  },
  {
   "cell_type": "code",
   "execution_count": null,
   "metadata": {},
   "outputs": [],
   "source": [
    "summarized_text = abstractive_summarization(text_of_book)\n",
    "\n",
    "\n",
    "print(\"Original Text Length:\", len(text_of_book))\n",
    "print(\"Summarized Text Length:\", len(summarized_text))\n",
    "print(\"\\nSummarized Text:\\n\", summarized_text)\n"
   ]
  },
  {
   "cell_type": "code",
   "execution_count": null,
   "metadata": {},
   "outputs": [],
   "source": [
    "wordcloud = WordCloud(width=800, height=400, background_color='black').generate(text_of_book)\n",
    "\n",
    "# Display the generated word cloud using matplotlib\n",
    "plt.figure(figsize=(10, 5))\n",
    "plt.imshow(wordcloud, interpolation='bilinear')\n",
    "plt.axis('off')\n",
    "plt.show()"
   ]
  },
  {
   "cell_type": "code",
   "execution_count": null,
   "metadata": {},
   "outputs": [],
   "source": []
  },
  {
   "cell_type": "code",
   "execution_count": null,
   "metadata": {},
   "outputs": [],
   "source": []
  }
 ],
 "metadata": {
  "kernelspec": {
   "display_name": "Python 3",
   "language": "python",
   "name": "python3"
  },
  "language_info": {
   "codemirror_mode": {
    "name": "ipython",
    "version": 3
   },
   "file_extension": ".py",
   "mimetype": "text/x-python",
   "name": "python",
   "nbconvert_exporter": "python",
   "pygments_lexer": "ipython3",
   "version": "3.10.0"
  }
 },
 "nbformat": 4,
 "nbformat_minor": 2
}
